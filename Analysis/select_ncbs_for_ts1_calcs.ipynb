{
 "cells": [
  {
   "cell_type": "code",
   "execution_count": 1,
   "metadata": {},
   "outputs": [],
   "source": [
    "# import packages\n",
    "import pandas as pd"
   ]
  },
  {
   "cell_type": "code",
   "execution_count": 3,
   "metadata": {},
   "outputs": [],
   "source": [
    "# reading in DFT-level descriptors\n",
    "dft_dataset = pd.read_csv('../Data/Predictive_Modeling_Inputs/dft_descriptors_full.csv')"
   ]
  },
  {
   "cell_type": "code",
   "execution_count": null,
   "metadata": {},
   "outputs": [],
   "source": [
    "# using binning to select structures for which to find TS1\n",
    "num_bins = 2\n",
    "dft_dataset['Column1_bins'] = pd.cut(dft_dataset['C4H_f-'], bins=num_bins, labels=False)\n",
    "dft_dataset['Column2_bins'] = pd.cut(dft_dataset['C3_f-'], bins=num_bins, labels=False)\n",
    "dft_dataset['Column3_bins'] = pd.cut(dft_dataset['C3sub_f-'], bins=num_bins, labels=False)\n",
    "dft_dataset['Column4_bins'] = pd.cut(dft_dataset['C2_NBO-q'], bins=num_bins, labels=False)\n",
    "dft_dataset['Column5_bins'] = pd.cut(dft_dataset['C3_NBO-q'], bins=num_bins, labels=False)\n",
    "dft_dataset['Column6_bins'] = pd.cut(dft_dataset['C5_NBO-q'], bins=num_bins, labels=False)\n",
    "dft_dataset['Column7_bins'] = pd.cut(dft_dataset['N1_NBO-q'], bins=num_bins, labels=False)\n",
    "dft_dataset['Column8_bins'] = pd.cut(dft_dataset['C4H_NBO-q'], bins=num_bins, labels=False)\n",
    "\n",
    "# Function to sample uniformly from each group\n",
    "def sample_uniformly(group):\n",
    "    return group.sample(1)\n",
    "\n",
    "# Group by 'Column1_bins' and 'Column2_bins', then apply the sampling function\n",
    "sampled_dft_data = dft_dataset.groupby(['Column1_bins','Column2_bins','Column3_bins','Column4_bins',\n",
    "                                        'Column5_bins','Column6_bins','Column7_bins','Column8_bins'], \n",
    "                                       group_keys=False).apply(sample_uniformly)\n",
    "\n",
    "### result:\n",
    "'''\n",
    "ncbs_to_sample = ['A1a', 'A5a', 'A5b', 'A3b', 'B2b', 'B3a', 'B6b', 'D5b', 'D3a', 'D6a', \n",
    "                  'C1b', 'C3b', 'C6a', 'E1a', 'E1b', 'E2a', 'E2b', 'E3a', 'E3b', 'J1a', \n",
    "                  'J1b', 'J5a', 'J5b', 'J4a', 'F1a', 'F3b', 'F6a', 'G3b', 'G4a', 'K1b', \n",
    "                  'K3a', 'K3b', 'K4b', 'K6b']\n",
    "'''"
   ]
  }
 ],
 "metadata": {
  "kernelspec": {
   "display_name": "cofactors",
   "language": "python",
   "name": "python3"
  },
  "language_info": {
   "codemirror_mode": {
    "name": "ipython",
    "version": 3
   },
   "file_extension": ".py",
   "mimetype": "text/x-python",
   "name": "python",
   "nbconvert_exporter": "python",
   "pygments_lexer": "ipython3",
   "version": "3.9.7"
  },
  "orig_nbformat": 4
 },
 "nbformat": 4,
 "nbformat_minor": 2
}
