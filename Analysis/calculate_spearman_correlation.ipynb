{
 "cells": [
  {
   "cell_type": "code",
   "execution_count": 1,
   "metadata": {},
   "outputs": [],
   "source": [
    "# import packages\n",
    "import pandas as pd\n",
    "from scipy import stats"
   ]
  },
  {
   "cell_type": "code",
   "execution_count": 2,
   "metadata": {},
   "outputs": [],
   "source": [
    "# finding datasets from ROBERT\n",
    "dft_test_df = pd.read_csv('../Data/ROBERT_Results/DFT/PREDICT/MVL_85_test_No_PFI.csv')\n",
    "dft_valid_df = pd.read_csv('../Data/ROBERT_Results/DFT/PREDICT/MVL_85_valid_No_PFI.csv')\n",
    "dft_train_df = pd.read_csv('../Data/ROBERT_Results/DFT/PREDICT/MVL_85_train_No_PFI.csv')\n",
    "\n",
    "aqme_test_df = pd.read_csv('../Data/ROBERT_Results/Semi-Empirical/PREDICT/MVL_85_test_No_PFI.csv')\n",
    "aqme_valid_df = pd.read_csv('../Data/ROBERT_Results/Semi-Empirical/PREDICT/MVL_85_train_No_PFI.csv')\n",
    "aqme_train_df = pd.read_csv('../Data/ROBERT_Results/Semi-Empirical/PREDICT/MVL_85_valid_No_PFI.csv')"
   ]
  },
  {
   "cell_type": "code",
   "execution_count": 3,
   "metadata": {},
   "outputs": [],
   "source": [
    "# combining training, validataion, and test sets\n",
    "dft_df = pd.concat([dft_test_df,dft_train_df,dft_valid_df])\n",
    "aqme_df = pd.concat([aqme_test_df,aqme_train_df,aqme_valid_df])\n",
    "\n",
    "# sorting the dataframes\n",
    "dft_df = dft_df.sort_values(by=['Cofactor'], ascending=True)\n",
    "aqme_df = aqme_df.sort_values(by=['code_name'], ascending=True)"
   ]
  },
  {
   "cell_type": "code",
   "execution_count": 4,
   "metadata": {},
   "outputs": [],
   "source": [
    "# adding DFT values to a dataframe\n",
    "dG_db = dft_df[['Cofactor','dG_C5','dG_C5_pred']]\n",
    "dG_df = dG_db.rename(columns={\"dG_C5\" : \"Calculated dG_C5\", \"dG_C5_pred\" : \"DFT Predicted dG_C5\"})\n",
    "\n",
    "# adding Semi-Empirical values to the dataframe\n",
    "aqme_df['Semi-Empirical Predicted dG_C5'] = aqme_df['dG_C5_pred']\n",
    "aqme_preds = aqme_df['Semi-Empirical Predicted dG_C5'].tolist()\n",
    "\n",
    "dG_df['Semi-Empirical Predicted dG_C5'] = aqme_preds"
   ]
  },
  {
   "cell_type": "code",
   "execution_count": 5,
   "metadata": {},
   "outputs": [],
   "source": [
    "# renaming the dataframes with our naming scheme\n",
    "r1 = ['A','B','D','C','E','J','F','G','H','K','I']\n",
    "r2 = ['1','2','5','3','4','6']\n",
    "r3 = ['a','b']\n",
    "\n",
    "names = []\n",
    "\n",
    "for i in r1:\n",
    "    for j in r2:\n",
    "        for k in r3:\n",
    "            names.append(i + j + k)\n",
    "\n",
    "dG_df_named = dG_df.drop(columns=['Cofactor'],axis=1)\n",
    "dG_df_named['Cofactor'] = names"
   ]
  },
  {
   "cell_type": "code",
   "execution_count": 6,
   "metadata": {},
   "outputs": [
    {
     "name": "stdout",
     "output_type": "stream",
     "text": [
      "DFT Model: SignificanceResult(statistic=0.97378595691171, pvalue=1.7976473699451722e-85)\n",
      "Semi-Empirical Model: SignificanceResult(statistic=0.9145956494289156, pvalue=5.8005918422643295e-53)\n"
     ]
    }
   ],
   "source": [
    "# finding Spearman correlation data\n",
    "dft_pred_corr = stats.spearmanr(dG_df['DFT Predicted dG_C5'], dG_df['Calculated dG_C5'])\n",
    "aqme_pred_corr = stats.spearmanr(dG_df['Semi-Empirical Predicted dG_C5'], dG_df['Calculated dG_C5'])\n",
    "\n",
    "print(f'DFT Model: {dft_pred_corr}')\n",
    "print(f'Semi-Empirical Model: {aqme_pred_corr}')"
   ]
  },
  {
   "cell_type": "code",
   "execution_count": 8,
   "metadata": {},
   "outputs": [
    {
     "name": "stdout",
     "output_type": "stream",
     "text": [
      "Tan: SignificanceResult(statistic=0.9999999999999999, pvalue=1.4042654220543672e-24)\n",
      "Nowak: SignificanceResult(statistic=0.6000000000000001, pvalue=0.3999999999999999)\n"
     ]
    }
   ],
   "source": [
    "# calculating experimental spearman correlations\n",
    "tan_names = ['D1a','B1a','B1b','F1a','F1b']\n",
    "tan_exp_rank = [2,1,4,3,5]\n",
    "tan_dft_rank = [2,1,4,3,5]\n",
    "tan_pred_rank = [2,1,4,3,5]\n",
    "\n",
    "nowak_names = ['A1a','F1a','G1a','H1a']\n",
    "nowak_exp_rank = [1,3,4,2]\n",
    "nowak_dft_rank = [2,4,1,3]\n",
    "nowak_pred_rank = [2,4,3,1]\n",
    "\n",
    "tan_spearman = stats.spearmanr(tan_pred_rank, tan_exp_rank)\n",
    "nowak_spearman = stats.spearmanr(nowak_pred_rank, nowak_exp_rank)\n",
    "\n",
    "print(f'Tan: {tan_spearman}')\n",
    "print(f'Nowak: {nowak_spearman}')"
   ]
  },
  {
   "cell_type": "code",
   "execution_count": null,
   "metadata": {},
   "outputs": [],
   "source": []
  }
 ],
 "metadata": {
  "kernelspec": {
   "display_name": "ml_packages",
   "language": "python",
   "name": "python3"
  },
  "language_info": {
   "codemirror_mode": {
    "name": "ipython",
    "version": 3
   },
   "file_extension": ".py",
   "mimetype": "text/x-python",
   "name": "python",
   "nbconvert_exporter": "python",
   "pygments_lexer": "ipython3",
   "version": "3.9.7"
  },
  "orig_nbformat": 4
 },
 "nbformat": 4,
 "nbformat_minor": 2
}
